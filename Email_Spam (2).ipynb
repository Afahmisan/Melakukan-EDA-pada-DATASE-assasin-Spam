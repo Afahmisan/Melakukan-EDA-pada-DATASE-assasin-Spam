{
  "cells": [
    {
      "cell_type": "code",
      "execution_count": 12,
      "metadata": {
        "id": "9pCqhlCwU_0J"
      },
      "outputs": [],
      "source": [
        "import numpy as np\n",
        "import pandas as pd\n",
        "import seaborn as sns\n",
        "import matplotlib as mpl\n",
        "import matplotlib.pyplot as plt\n",
        "import os\n",
        "from sklearn.feature_extraction.text import TfidfVectorizer"
      ]
    },
    {
      "cell_type": "code",
      "execution_count": 13,
      "metadata": {
        "colab": {
          "base_uri": "https://localhost:8080/"
        },
        "id": "U-FljVzrU4QO",
        "outputId": "64dc798f-8e50-4748-a57d-56cf10dcd6d9"
      },
      "outputs": [
        {
          "output_type": "stream",
          "name": "stdout",
          "text": [
            "Path to dataset files: /root/.cache/kagglehub/datasets/ganiyuolalekan/spam-assassin-email-classification-dataset/versions/1\n"
          ]
        }
      ],
      "source": [
        "import kagglehub\n",
        "import os\n",
        "# Download latest version\n",
        "path = kagglehub.dataset_download(\"ganiyuolalekan/spam-assassin-email-classification-dataset\")\n",
        "\n",
        "print(\"Path to dataset files:\", path)\n",
        "\n",
        "# Path ke direktori dataset yang didownload\n",
        "dataset_path = path # 'path' didapatkan dari cell sebelumnya\n",
        "\n",
        "# Nama file CSV\n",
        "file_name = \"spam_assassin.csv\"\n",
        "\n",
        "# Menggabungkan path direktori dengan nama file\n",
        "full_file_path = os.path.join(dataset_path, file_name)\n",
        "\n",
        "# Memuat data ke dalam pandas DataFrame\n",
        "dataset = pd.read_csv(full_file_path)"
      ]
    },
    {
      "cell_type": "markdown",
      "metadata": {
        "id": "538793b1"
      },
      "source": [
        "### Deskripsi Dataset\n",
        "\n",
        "Dataset ini berisi koleksi email yang dikategorikan sebagai spam atau non-spam (ham). Dataset terdiri dari dua kolom utama:\n",
        "\n",
        "- **text**: Konten lengkap dari email.\n",
        "- **target**: Label yang menunjukkan apakah email tersebut spam (biasanya ditandai dengan 1) atau non-spam (ditandai dengan 0).\n",
        "\n",
        "Dataset ini akan digunakan untuk membangun model klasifikasi yang dapat membedakan email spam dan non-spam berdasarkan konten teksnya."
      ]
    },
    {
      "cell_type": "code",
      "execution_count": 14,
      "metadata": {
        "colab": {
          "base_uri": "https://localhost:8080/"
        },
        "id": "x9e9auXqWRDh",
        "outputId": "33881d50-1e5f-4023-cfb8-573f60d55abc"
      },
      "outputs": [
        {
          "output_type": "stream",
          "name": "stdout",
          "text": [
            "<class 'pandas.core.frame.DataFrame'>\n",
            "RangeIndex: 5796 entries, 0 to 5795\n",
            "Data columns (total 2 columns):\n",
            " #   Column  Non-Null Count  Dtype \n",
            "---  ------  --------------  ----- \n",
            " 0   text    5796 non-null   object\n",
            " 1   target  5796 non-null   int64 \n",
            "dtypes: int64(1), object(1)\n",
            "memory usage: 90.7+ KB\n"
          ]
        }
      ],
      "source": [
        "dataset.info()"
      ]
    },
    {
      "cell_type": "markdown",
      "metadata": {
        "id": "e3d07a79"
      },
      "source": [
        "### Data Cleaning"
      ]
    },
    {
      "cell_type": "code",
      "execution_count": 15,
      "metadata": {
        "colab": {
          "base_uri": "https://localhost:8080/"
        },
        "id": "ec479fad",
        "outputId": "8f0fba64-7251-4000-c8f0-fbc92463c08c"
      },
      "outputs": [
        {
          "output_type": "stream",
          "name": "stdout",
          "text": [
            "Missing values before cleaning:\n",
            "text      0\n",
            "target    0\n",
            "dtype: int64\n",
            "\n",
            "Jumlah duplikasi sebelum cleaning:\n",
            "467\n",
            "\n",
            "Missing values after cleaning:\n",
            "text      0\n",
            "target    0\n",
            "dtype: int64\n",
            "\n",
            "Jumlah duplikasi setelah cleaning:\n",
            "0\n",
            "\n",
            "Informasi dataset setelah cleaning:\n",
            "<class 'pandas.core.frame.DataFrame'>\n",
            "Index: 5329 entries, 0 to 5795\n",
            "Data columns (total 2 columns):\n",
            " #   Column  Non-Null Count  Dtype \n",
            "---  ------  --------------  ----- \n",
            " 0   text    5329 non-null   object\n",
            " 1   target  5329 non-null   int64 \n",
            "dtypes: int64(1), object(1)\n",
            "memory usage: 124.9+ KB\n"
          ]
        }
      ],
      "source": [
        "# Cek missing values\n",
        "print(\"Missing values before cleaning:\")\n",
        "print(dataset.isnull().sum())\n",
        "\n",
        "# Hapus baris dengan missing values (jika ada)\n",
        "dataset.dropna(inplace=True)\n",
        "\n",
        "# Cek duplikasi\n",
        "print(\"\\nJumlah duplikasi sebelum cleaning:\")\n",
        "print(dataset.duplicated().sum())\n",
        "\n",
        "# Hapus baris duplikat\n",
        "dataset.drop_duplicates(inplace=True)\n",
        "\n",
        "# Cek missing values setelah cleaning\n",
        "print(\"\\nMissing values after cleaning:\")\n",
        "print(dataset.isnull().sum())\n",
        "\n",
        "# Cek duplikasi setelah cleaning\n",
        "print(\"\\nJumlah duplikasi setelah cleaning:\")\n",
        "print(dataset.duplicated().sum())\n",
        "\n",
        "# Tampilkan informasi dataset setelah cleaning\n",
        "print(\"\\nInformasi dataset setelah cleaning:\")\n",
        "dataset.info()"
      ]
    },
    {
      "cell_type": "markdown",
      "metadata": {
        "id": "e14709a5"
      },
      "source": [
        "Sekarang dataset sudah dibersihkan dari missing values dan duplikasi. Selanjutnya kita bisa melanjutkan ke tahap pre-processing teks sesuai dengan rencana yang sudah dibuat."
      ]
    },
    {
      "cell_type": "markdown",
      "metadata": {
        "id": "486877f2"
      },
      "source": [
        "### Analisis Statistik Deskriptif"
      ]
    },
    {
      "cell_type": "code",
      "execution_count": 16,
      "metadata": {
        "colab": {
          "base_uri": "https://localhost:8080/",
          "height": 369
        },
        "id": "QW9Em35KeYzk",
        "outputId": "2255813d-8684-4c02-e8da-02e33ace60e0"
      },
      "outputs": [
        {
          "output_type": "stream",
          "name": "stdout",
          "text": [
            "\n",
            "Statistik Deskriptif untuk Kolom 'target':\n"
          ]
        },
        {
          "output_type": "display_data",
          "data": {
            "text/plain": [
              "count    5329.000000\n",
              "mean        0.317320\n",
              "std         0.465477\n",
              "min         0.000000\n",
              "25%         0.000000\n",
              "50%         0.000000\n",
              "75%         1.000000\n",
              "max         1.000000\n",
              "Name: target, dtype: float64"
            ],
            "text/html": [
              "<div>\n",
              "<style scoped>\n",
              "    .dataframe tbody tr th:only-of-type {\n",
              "        vertical-align: middle;\n",
              "    }\n",
              "\n",
              "    .dataframe tbody tr th {\n",
              "        vertical-align: top;\n",
              "    }\n",
              "\n",
              "    .dataframe thead th {\n",
              "        text-align: right;\n",
              "    }\n",
              "</style>\n",
              "<table border=\"1\" class=\"dataframe\">\n",
              "  <thead>\n",
              "    <tr style=\"text-align: right;\">\n",
              "      <th></th>\n",
              "      <th>target</th>\n",
              "    </tr>\n",
              "  </thead>\n",
              "  <tbody>\n",
              "    <tr>\n",
              "      <th>count</th>\n",
              "      <td>5329.000000</td>\n",
              "    </tr>\n",
              "    <tr>\n",
              "      <th>mean</th>\n",
              "      <td>0.317320</td>\n",
              "    </tr>\n",
              "    <tr>\n",
              "      <th>std</th>\n",
              "      <td>0.465477</td>\n",
              "    </tr>\n",
              "    <tr>\n",
              "      <th>min</th>\n",
              "      <td>0.000000</td>\n",
              "    </tr>\n",
              "    <tr>\n",
              "      <th>25%</th>\n",
              "      <td>0.000000</td>\n",
              "    </tr>\n",
              "    <tr>\n",
              "      <th>50%</th>\n",
              "      <td>0.000000</td>\n",
              "    </tr>\n",
              "    <tr>\n",
              "      <th>75%</th>\n",
              "      <td>1.000000</td>\n",
              "    </tr>\n",
              "    <tr>\n",
              "      <th>max</th>\n",
              "      <td>1.000000</td>\n",
              "    </tr>\n",
              "  </tbody>\n",
              "</table>\n",
              "</div><br><label><b>dtype:</b> float64</label>"
            ]
          },
          "metadata": {}
        }
      ],
      "source": [
        "# Analisis Statistik Deskriptif\n",
        "\n",
        "print(\"\\nStatistik Deskriptif untuk Kolom 'target':\")\n",
        "display(dataset['target'].describe())\n",
        "\n",
        "# Jika ada kolom numerik lain setelah cleaning, statistik deskriptifnya bisa ditambahkan di sini\n",
        "# Contoh:\n",
        "# print(\"\\nStatistik Deskriptif untuk Kolom Lain (jika ada):\")\n",
        "# display(dataset[['nama_kolom_numerik_lain']].describe())"
      ]
    },
    {
      "cell_type": "markdown",
      "metadata": {
        "id": "6ecd85ca"
      },
      "source": [
        "### Distribusi Email Spam vs Non-Spam"
      ]
    },
    {
      "cell_type": "code",
      "execution_count": 17,
      "metadata": {
        "colab": {
          "base_uri": "https://localhost:8080/"
        },
        "id": "1b689285",
        "outputId": "fef6d394-1a05-4d58-e741-78986d87c056"
      },
      "outputs": [
        {
          "output_type": "stream",
          "name": "stdout",
          "text": [
            "Jumlah email spam dan non-spam:\n",
            "target\n",
            "0    3638\n",
            "1    1691\n",
            "Name: count, dtype: int64\n",
            "\n",
            "Distribusi dalam persentase:\n",
            "target\n",
            "0    68.267968\n",
            "1    31.732032\n",
            "Name: proportion, dtype: float64\n"
          ]
        }
      ],
      "source": [
        "# Menghitung jumlah email spam (target = 1) dan non-spam (target = 0)\n",
        "spam_counts = dataset['target'].value_counts()\n",
        "\n",
        "print(\"Jumlah email spam dan non-spam:\")\n",
        "print(spam_counts)\n",
        "\n",
        "# Menampilkan dalam persentase juga (opsional)\n",
        "print(\"\\nDistribusi dalam persentase:\")\n",
        "print(dataset['target'].value_counts(normalize=True) * 100)"
      ]
    },
    {
      "cell_type": "markdown",
      "metadata": {
        "id": "73f143a6"
      },
      "source": [
        "### Text Pre-processing"
      ]
    },
    {
      "cell_type": "code",
      "execution_count": 18,
      "metadata": {
        "id": "75e43bee"
      },
      "outputs": [],
      "source": [
        "import re\n",
        "import nltk\n",
        "from nltk.corpus import stopwords\n",
        "from nltk.tokenize import word_tokenize\n",
        "\n",
        "# Download necessary NLTK data (only need to run once)\n",
        "try:\n",
        "    nltk.data.find('corpora/stopwords')\n",
        "except LookupError:\n",
        "    nltk.download('stopwords')\n",
        "\n",
        "try:\n",
        "    nltk.data.find('tokenizers/punkt')\n",
        "except LookupError:\n",
        "    nltk.download('punkt')"
      ]
    },
    {
      "cell_type": "code",
      "execution_count": 19,
      "metadata": {
        "colab": {
          "base_uri": "https://localhost:8080/",
          "height": 223
        },
        "id": "2027bfac",
        "outputId": "ad03ee30-e683-475f-c66d-62d293b9fc14"
      },
      "outputs": [
        {
          "output_type": "stream",
          "name": "stdout",
          "text": [
            "Dataset after text pre-processing:\n"
          ]
        },
        {
          "output_type": "display_data",
          "data": {
            "text/plain": [
              "                                                text  target  \\\n",
              "0  From ilug-admin@linux.ie Mon Jul 29 11:28:02 2...       0   \n",
              "1  From gort44@excite.com Mon Jun 24 17:54:21 200...       1   \n",
              "2  From fork-admin@xent.com Mon Jul 29 11:39:57 2...       1   \n",
              "3  From dcm123@btamail.net.cn Mon Jun 24 17:49:23...       1   \n",
              "4  From ilug-admin@linux.ie Mon Aug 19 11:02:47 2...       0   \n",
              "\n",
              "                                        cleaned_text  \n",
              "0  ilugadminlinuxie mon jul 29 112802 2002 return...  \n",
              "1  gort44excitecom mon jun 24 175421 2002 returnp...  \n",
              "2  forkadminxentcom mon jul 29 113957 2002 return...  \n",
              "3  dcm123btamailnetcn mon jun 24 174923 2002 retu...  \n",
              "4  ilugadminlinuxie mon aug 19 110247 2002 return...  "
            ],
            "text/html": [
              "\n",
              "  <div id=\"df-a1a01466-a8d2-4b18-98a9-37578572f6a2\" class=\"colab-df-container\">\n",
              "    <div>\n",
              "<style scoped>\n",
              "    .dataframe tbody tr th:only-of-type {\n",
              "        vertical-align: middle;\n",
              "    }\n",
              "\n",
              "    .dataframe tbody tr th {\n",
              "        vertical-align: top;\n",
              "    }\n",
              "\n",
              "    .dataframe thead th {\n",
              "        text-align: right;\n",
              "    }\n",
              "</style>\n",
              "<table border=\"1\" class=\"dataframe\">\n",
              "  <thead>\n",
              "    <tr style=\"text-align: right;\">\n",
              "      <th></th>\n",
              "      <th>text</th>\n",
              "      <th>target</th>\n",
              "      <th>cleaned_text</th>\n",
              "    </tr>\n",
              "  </thead>\n",
              "  <tbody>\n",
              "    <tr>\n",
              "      <th>0</th>\n",
              "      <td>From ilug-admin@linux.ie Mon Jul 29 11:28:02 2...</td>\n",
              "      <td>0</td>\n",
              "      <td>ilugadminlinuxie mon jul 29 112802 2002 return...</td>\n",
              "    </tr>\n",
              "    <tr>\n",
              "      <th>1</th>\n",
              "      <td>From gort44@excite.com Mon Jun 24 17:54:21 200...</td>\n",
              "      <td>1</td>\n",
              "      <td>gort44excitecom mon jun 24 175421 2002 returnp...</td>\n",
              "    </tr>\n",
              "    <tr>\n",
              "      <th>2</th>\n",
              "      <td>From fork-admin@xent.com Mon Jul 29 11:39:57 2...</td>\n",
              "      <td>1</td>\n",
              "      <td>forkadminxentcom mon jul 29 113957 2002 return...</td>\n",
              "    </tr>\n",
              "    <tr>\n",
              "      <th>3</th>\n",
              "      <td>From dcm123@btamail.net.cn Mon Jun 24 17:49:23...</td>\n",
              "      <td>1</td>\n",
              "      <td>dcm123btamailnetcn mon jun 24 174923 2002 retu...</td>\n",
              "    </tr>\n",
              "    <tr>\n",
              "      <th>4</th>\n",
              "      <td>From ilug-admin@linux.ie Mon Aug 19 11:02:47 2...</td>\n",
              "      <td>0</td>\n",
              "      <td>ilugadminlinuxie mon aug 19 110247 2002 return...</td>\n",
              "    </tr>\n",
              "  </tbody>\n",
              "</table>\n",
              "</div>\n",
              "    <div class=\"colab-df-buttons\">\n",
              "\n",
              "  <div class=\"colab-df-container\">\n",
              "    <button class=\"colab-df-convert\" onclick=\"convertToInteractive('df-a1a01466-a8d2-4b18-98a9-37578572f6a2')\"\n",
              "            title=\"Convert this dataframe to an interactive table.\"\n",
              "            style=\"display:none;\">\n",
              "\n",
              "  <svg xmlns=\"http://www.w3.org/2000/svg\" height=\"24px\" viewBox=\"0 -960 960 960\">\n",
              "    <path d=\"M120-120v-720h720v720H120Zm60-500h600v-160H180v160Zm220 220h160v-160H400v160Zm0 220h160v-160H400v160ZM180-400h160v-160H180v160Zm440 0h160v-160H620v160ZM180-180h160v-160H180v160Zm440 0h160v-160H620v160Z\"/>\n",
              "  </svg>\n",
              "    </button>\n",
              "\n",
              "  <style>\n",
              "    .colab-df-container {\n",
              "      display:flex;\n",
              "      gap: 12px;\n",
              "    }\n",
              "\n",
              "    .colab-df-convert {\n",
              "      background-color: #E8F0FE;\n",
              "      border: none;\n",
              "      border-radius: 50%;\n",
              "      cursor: pointer;\n",
              "      display: none;\n",
              "      fill: #1967D2;\n",
              "      height: 32px;\n",
              "      padding: 0 0 0 0;\n",
              "      width: 32px;\n",
              "    }\n",
              "\n",
              "    .colab-df-convert:hover {\n",
              "      background-color: #E2EBFA;\n",
              "      box-shadow: 0px 1px 2px rgba(60, 64, 67, 0.3), 0px 1px 3px 1px rgba(60, 64, 67, 0.15);\n",
              "      fill: #174EA6;\n",
              "    }\n",
              "\n",
              "    .colab-df-buttons div {\n",
              "      margin-bottom: 4px;\n",
              "    }\n",
              "\n",
              "    [theme=dark] .colab-df-convert {\n",
              "      background-color: #3B4455;\n",
              "      fill: #D2E3FC;\n",
              "    }\n",
              "\n",
              "    [theme=dark] .colab-df-convert:hover {\n",
              "      background-color: #434B5C;\n",
              "      box-shadow: 0px 1px 3px 1px rgba(0, 0, 0, 0.15);\n",
              "      filter: drop-shadow(0px 1px 2px rgba(0, 0, 0, 0.3));\n",
              "      fill: #FFFFFF;\n",
              "    }\n",
              "  </style>\n",
              "\n",
              "    <script>\n",
              "      const buttonEl =\n",
              "        document.querySelector('#df-a1a01466-a8d2-4b18-98a9-37578572f6a2 button.colab-df-convert');\n",
              "      buttonEl.style.display =\n",
              "        google.colab.kernel.accessAllowed ? 'block' : 'none';\n",
              "\n",
              "      async function convertToInteractive(key) {\n",
              "        const element = document.querySelector('#df-a1a01466-a8d2-4b18-98a9-37578572f6a2');\n",
              "        const dataTable =\n",
              "          await google.colab.kernel.invokeFunction('convertToInteractive',\n",
              "                                                    [key], {});\n",
              "        if (!dataTable) return;\n",
              "\n",
              "        const docLinkHtml = 'Like what you see? Visit the ' +\n",
              "          '<a target=\"_blank\" href=https://colab.research.google.com/notebooks/data_table.ipynb>data table notebook</a>'\n",
              "          + ' to learn more about interactive tables.';\n",
              "        element.innerHTML = '';\n",
              "        dataTable['output_type'] = 'display_data';\n",
              "        await google.colab.output.renderOutput(dataTable, element);\n",
              "        const docLink = document.createElement('div');\n",
              "        docLink.innerHTML = docLinkHtml;\n",
              "        element.appendChild(docLink);\n",
              "      }\n",
              "    </script>\n",
              "  </div>\n",
              "\n",
              "\n",
              "    <div id=\"df-010d7544-07fc-445b-a353-2ad829c7650f\">\n",
              "      <button class=\"colab-df-quickchart\" onclick=\"quickchart('df-010d7544-07fc-445b-a353-2ad829c7650f')\"\n",
              "                title=\"Suggest charts\"\n",
              "                style=\"display:none;\">\n",
              "\n",
              "<svg xmlns=\"http://www.w3.org/2000/svg\" height=\"24px\"viewBox=\"0 0 24 24\"\n",
              "     width=\"24px\">\n",
              "    <g>\n",
              "        <path d=\"M19 3H5c-1.1 0-2 .9-2 2v14c0 1.1.9 2 2 2h14c1.1 0 2-.9 2-2V5c0-1.1-.9-2-2-2zM9 17H7v-7h2v7zm4 0h-2V7h2v10zm4 0h-2v-4h2v4z\"/>\n",
              "    </g>\n",
              "</svg>\n",
              "      </button>\n",
              "\n",
              "<style>\n",
              "  .colab-df-quickchart {\n",
              "      --bg-color: #E8F0FE;\n",
              "      --fill-color: #1967D2;\n",
              "      --hover-bg-color: #E2EBFA;\n",
              "      --hover-fill-color: #174EA6;\n",
              "      --disabled-fill-color: #AAA;\n",
              "      --disabled-bg-color: #DDD;\n",
              "  }\n",
              "\n",
              "  [theme=dark] .colab-df-quickchart {\n",
              "      --bg-color: #3B4455;\n",
              "      --fill-color: #D2E3FC;\n",
              "      --hover-bg-color: #434B5C;\n",
              "      --hover-fill-color: #FFFFFF;\n",
              "      --disabled-bg-color: #3B4455;\n",
              "      --disabled-fill-color: #666;\n",
              "  }\n",
              "\n",
              "  .colab-df-quickchart {\n",
              "    background-color: var(--bg-color);\n",
              "    border: none;\n",
              "    border-radius: 50%;\n",
              "    cursor: pointer;\n",
              "    display: none;\n",
              "    fill: var(--fill-color);\n",
              "    height: 32px;\n",
              "    padding: 0;\n",
              "    width: 32px;\n",
              "  }\n",
              "\n",
              "  .colab-df-quickchart:hover {\n",
              "    background-color: var(--hover-bg-color);\n",
              "    box-shadow: 0 1px 2px rgba(60, 64, 67, 0.3), 0 1px 3px 1px rgba(60, 64, 67, 0.15);\n",
              "    fill: var(--button-hover-fill-color);\n",
              "  }\n",
              "\n",
              "  .colab-df-quickchart-complete:disabled,\n",
              "  .colab-df-quickchart-complete:disabled:hover {\n",
              "    background-color: var(--disabled-bg-color);\n",
              "    fill: var(--disabled-fill-color);\n",
              "    box-shadow: none;\n",
              "  }\n",
              "\n",
              "  .colab-df-spinner {\n",
              "    border: 2px solid var(--fill-color);\n",
              "    border-color: transparent;\n",
              "    border-bottom-color: var(--fill-color);\n",
              "    animation:\n",
              "      spin 1s steps(1) infinite;\n",
              "  }\n",
              "\n",
              "  @keyframes spin {\n",
              "    0% {\n",
              "      border-color: transparent;\n",
              "      border-bottom-color: var(--fill-color);\n",
              "      border-left-color: var(--fill-color);\n",
              "    }\n",
              "    20% {\n",
              "      border-color: transparent;\n",
              "      border-left-color: var(--fill-color);\n",
              "      border-top-color: var(--fill-color);\n",
              "    }\n",
              "    30% {\n",
              "      border-color: transparent;\n",
              "      border-left-color: var(--fill-color);\n",
              "      border-top-color: var(--fill-color);\n",
              "      border-right-color: var(--fill-color);\n",
              "    }\n",
              "    40% {\n",
              "      border-color: transparent;\n",
              "      border-right-color: var(--fill-color);\n",
              "      border-top-color: var(--fill-color);\n",
              "    }\n",
              "    60% {\n",
              "      border-color: transparent;\n",
              "      border-right-color: var(--fill-color);\n",
              "    }\n",
              "    80% {\n",
              "      border-color: transparent;\n",
              "      border-right-color: var(--fill-color);\n",
              "      border-bottom-color: var(--fill-color);\n",
              "    }\n",
              "    90% {\n",
              "      border-color: transparent;\n",
              "      border-bottom-color: var(--fill-color);\n",
              "    }\n",
              "  }\n",
              "</style>\n",
              "\n",
              "      <script>\n",
              "        async function quickchart(key) {\n",
              "          const quickchartButtonEl =\n",
              "            document.querySelector('#' + key + ' button');\n",
              "          quickchartButtonEl.disabled = true;  // To prevent multiple clicks.\n",
              "          quickchartButtonEl.classList.add('colab-df-spinner');\n",
              "          try {\n",
              "            const charts = await google.colab.kernel.invokeFunction(\n",
              "                'suggestCharts', [key], {});\n",
              "          } catch (error) {\n",
              "            console.error('Error during call to suggestCharts:', error);\n",
              "          }\n",
              "          quickchartButtonEl.classList.remove('colab-df-spinner');\n",
              "          quickchartButtonEl.classList.add('colab-df-quickchart-complete');\n",
              "        }\n",
              "        (() => {\n",
              "          let quickchartButtonEl =\n",
              "            document.querySelector('#df-010d7544-07fc-445b-a353-2ad829c7650f button');\n",
              "          quickchartButtonEl.style.display =\n",
              "            google.colab.kernel.accessAllowed ? 'block' : 'none';\n",
              "        })();\n",
              "      </script>\n",
              "    </div>\n",
              "\n",
              "    </div>\n",
              "  </div>\n"
            ],
            "application/vnd.google.colaboratory.intrinsic+json": {
              "type": "dataframe",
              "summary": "{\n  \"name\": \"display(dataset\",\n  \"rows\": 5,\n  \"fields\": [\n    {\n      \"column\": \"text\",\n      \"properties\": {\n        \"dtype\": \"string\",\n        \"num_unique_values\": 5,\n        \"samples\": [\n          \"From gort44@excite.com Mon Jun 24 17:54:21 2002 Return-Path: gort44@excite.com Delivery-Date: Tue Jun 4 05:31:16 2002 Received: from mandark.labs.netnoteinc.com ([213.105.180.140]) by dogma.slashnull.org (8.11.6/8.11.6) with ESMTP id g544VFO20182 for <jm@jmason.org>; Tue, 4 Jun 2002 05:31:15 +0100 Received: from wi-poli.poli.cl ([200.54.149.34]) by mandark.labs.netnoteinc.com (8.11.2/8.11.2) with SMTP id g544VC729935; Tue, 4 Jun 2002 05:31:13 +0100 Received: from 216.77.61.89 (unverified [218.5.180.148]) by wi-poli.poli.cl (EMWAC SMTPRS 0.83) with SMTP id <B0000918901@wi-poli.poli.cl>; Tue, 04 Jun 2002 00:14:29 -0400 Message-Id: <B0000918901@wi-poli.poli.cl> To: <chrbader@telecom.at> From: \\\"irese\\\" <gort44@excite.com> Subject: Cash in on your home equity Date: Tue, 04 Jun 2002 00:18:34 -1600 MIME-Version: 1.0 Content-Type: text/plain; charset=\\\"Windows-1252\\\" X-Keywords: Content-Transfer-Encoding: 7bit Mortgage Lenders & Brokers Are Ready to compete for your business. Whether a new home loan is what you seek or to refinance your current home loan at a lower interest rate, we can help! Mortgage rates haven't been this low in years take action now! Refinance your home with us and include all of those pesky credit card bills or use the extra cash for that pool you've always wanted... Where others say NO, we say YES!!! Even if you have been turned down elsewhere, we can help! Easy terms! Our mortgage referral service combines the highest quality loans with the most economical rates and the easiest qualifications! Take just 2 minutes to complete the following form. There is no obligation, all information is kept strictly confidential, and you must be at least 18 years of age. Service is available within the United States only. This service is fast and free. Free information request form: PLEASE VISIT http://builtit4unow.com/pos **************************************************************** Since you have received this message you have either responded to one of our offers in the past or your address has been registered with us. If you wish to \\\"OPT_OUT\\\" please visit: http://builtit4unow.com/pos ****************************************************************\",\n          \"From ilug-admin@linux.ie Mon Aug 19 11:02:47 2002 Return-Path: <ilug-admin@linux.ie> Delivered-To: yyyy@localhost.netnoteinc.com Received: from localhost (localhost [127.0.0.1]) by phobos.labs.netnoteinc.com (Postfix) with ESMTP id CB0FC44196 for <jm@localhost>; Mon, 19 Aug 2002 05:54:24 -0400 (EDT) Received: from phobos [127.0.0.1] by localhost with IMAP (fetchmail-5.9.0) for jm@localhost (single-drop); Mon, 19 Aug 2002 10:54:24 +0100 (IST) Received: from lugh.tuatha.org (root@lugh.tuatha.org [194.125.145.45]) by dogma.slashnull.org (8.11.6/8.11.6) with ESMTP id g7HL8j610834 for <jm-ilug@jmason.org>; Sat, 17 Aug 2002 22:08:45 +0100 Received: from lugh (root@localhost [127.0.0.1]) by lugh.tuatha.org (8.9.3/8.9.3) with ESMTP id WAA08700; Sat, 17 Aug 2002 22:07:20 +0100 Received: from hawk.dcu.ie (mail.dcu.ie [136.206.1.5]) by lugh.tuatha.org (8.9.3/8.9.3) with ESMTP id WAA08664 for <ilug@linux.ie>; Sat, 17 Aug 2002 22:07:12 +0100 X-Authentication-Warning: lugh.tuatha.org: Host mail.dcu.ie [136.206.1.5] claimed to be hawk.dcu.ie Received: from prodigy.redbrick.dcu.ie (136.206.15.10) by hawk.dcu.ie (6.0.040) id 3D36BB4A000AD875 for ilug@linux.ie; Sat, 17 Aug 2002 22:07:12 +0100 Received: by prodigy.redbrick.dcu.ie (Postfix, from userid 1023) id 97F48DA4A; Sat, 17 Aug 2002 22:07:11 +0100 (IST) Date: Sat, 17 Aug 2002 22:07:11 +0100 From: Philip Reynolds <phil@redbrick.dcu.ie> To: ilug@linux.ie Subject: Re: [ILUG] expanding a string multiple times Message-Id: <20020817220711.H29114@prodigy.Redbrick.DCU.IE> References: <3D5D27B9.9080009@corvil.com> <20020817100644.GA29167@chewie.compsoc.com> MIME-Version: 1.0 Content-Type: text/plain; charset=us-ascii Content-Disposition: inline User-Agent: Mutt/1.2.5i In-Reply-To: <20020817100644.GA29167@chewie.compsoc.com>; from kor@compsoc.com on Sat, Aug 17, 2002 at 11:06:44AM +0100 Sender: ilug-admin@linux.ie Errors-To: ilug-admin@linux.ie X-Mailman-Version: 1.1 Precedence: bulk List-Id: Irish Linux Users' Group <ilug.linux.ie> X-Beenthere: ilug@linux.ie Kevin O' Riordan's [kor@compsoc.com] 30 lines of wisdom included: > > On Pungenday, the 9th day of Bureaucracy, Padraig Brady confessed: > > How can I repeat a string an arbitrary number > > of times in bash/sed/... > > > > I.E. I'm missing the repeat in the following: > > > > STRING=\\\"> \\\" > > NUMBER=3 > > PREFIX=repeat $STRING $NUMBER > > echo $PREFIX > > > > > > > > perl ? > > STRING=\\\"> \\\" > NUMBER=3 > PREFIX=`perl -e \\\"print '$STRING' x $NUMBER;\\\"` > echo $PREFIX > > I'm pretty sure the bsd 'jot' utility can do this too, but I don't > have it to hand. I didn't think that jot was installed on Linux systems by default, so from the tone of Padraigs mail that's not what he wanted, however, if I'm incorrect (don't have a Linux system to hand) the following is the syntax. jot -b \\\"string\\\" 3 Phil. -- Philip Reynolds RFC Networks tel: 01 8832063 www.rfc-networks.ie fax: 01 8832041 -- Irish Linux Users' Group: ilug@linux.ie http://www.linux.ie/mailman/listinfo/ilug for (un)subscription information. List maintainer: listmaster@linux.ie\",\n          \"From fork-admin@xent.com Mon Jul 29 11:39:57 2002 Return-Path: <fork-admin@xent.com> Delivered-To: yyyy@localhost.netnoteinc.com Received: from localhost (localhost [127.0.0.1]) by phobos.labs.netnoteinc.com (Postfix) with ESMTP id 0F3F544165 for <jm@localhost>; Mon, 29 Jul 2002 06:34:20 -0400 (EDT) Received: from phobos [127.0.0.1] by localhost with IMAP (fetchmail-5.9.0) for jm@localhost (single-drop); Mon, 29 Jul 2002 11:34:20 +0100 (IST) Received: from webnote.net (mail.webnote.net [193.120.211.219]) by dogma.slashnull.org (8.11.6/8.11.6) with ESMTP id g6RAEOi18890 for <jm@JMASON.ORG>; Sat, 27 Jul 2002 11:14:24 +0100 Received: from xent.com ([64.161.22.236]) by webnote.net (8.9.3/8.9.3) with ESMTP id EAA15163 for <jm@jmason.org>; Sat, 27 Jul 2002 04:01:07 +0100 Received: from lair.xent.com (localhost [127.0.0.1]) by xent.com (Postfix) with ESMTP id 6B8432940A3; Fri, 26 Jul 2002 20:00:08 -0700 (PDT) Delivered-To: fork@spamassassin.taint.org Received: from bolehmail.com (unknown [61.241.232.250]) by xent.com (Postfix) with SMTP id 6EBF629409B; Fri, 26 Jul 2002 19:59:17 -0700 (PDT) Received: from unknown (HELO f64.law4.hottestmale.com) (76.28.45.69) by f64.law4.hottestmale.com with asmtp; 26 Jul 0102 15:08:45 -0500 Received: from unknown (71.24.157.182) by rly-yk04.aolmd.com with local; 26 Jul 0102 10:07:54 +0200 Received: from unknown (HELO smtp013.mail.yahou.com) (143.180.211.131) by rly-yk04.aolmd.com with asmtp; Fri, 26 Jul 0102 12:07:03 +1200 Received: from 46.67.186.19 ([46.67.186.19]) by q4.quickslow.com with asmtp; Sat, 27 Jul 0102 00:06:12 +0300 Reply-To: <5447q67@bolehmail.com> Message-Id: <026a52b71b5e$3662d2e5$0cb01ad7@idrpqw> From: <5447q67@bolehmail.com> To: <fork-request@xent.com>, <fork@spamassassin.taint.org> Subject: Are Your Mortgage Rates The Best They Can Be........ 0922LkVT8-113rFxd3342c-21 MIME-Version: 1.0 Content-Type: text/plain; charset=\\\"us-ascii\\\" X-Priority: 3 (Normal) X-Msmail-Priority: Normal X-Mailer: Microsoft Outlook Express 5.50.4522.1200 Importance: Normal Sender: fork-admin@xent.com Errors-To: fork-admin@xent.com X-Beenthere: fork@spamassassin.taint.org X-Mailman-Version: 2.0.11 Precedence: bulk List-Help: <mailto:fork-request@xent.com?subject=help> List-Post: <mailto:fork@spamassassin.taint.org> List-Subscribe: <http://xent.com/mailman/listinfo/fork>, <mailto:fork-request@xent.com?subject=subscribe> List-Id: Friends of Rohit Khare <fork.xent.com> List-Unsubscribe: <http://xent.com/mailman/listinfo/fork>, <mailto:fork-request@xent.com?subject=unsubscribe> List-Archive: <http://xent.com/pipermail/fork/> Date: Fri, 26 Jul 0102 18:03:12 +0900 Content-Transfer-Encoding: 8bit Dear Homeowner, Interest Rates are at their lowest point in 40 years! We help you find the best rate for your situation by matching your needs with hundreds of lenders! Home Improvement, Refinance, Second Mortgage, Home Equity Loans, and much, much more! You're eligible even with less than perfect credit! This service is 100% FREE to home owners and new home buyers without any obligation. Where others say NO, we say YES!!! http://www243.wiildaccess.com Take just 2 minutes to complete the following form. There is no obligation, all information is kept strictly confidential, and you must be at least 18 years of age. Service is available within the United States only. This service is fast and free. http://www243.wiildaccess.com +++++++++++++++++++++++++++++++++++++++++++++++++++++++++++++++ To opt out: http://www243.wiildaccess.com/optout.html 8960ryoE6-752DjSn8958wQDd4-522UPqi8940xzrR4-094LKl46 http://xent.com/mailman/listinfo/fork\"\n        ],\n        \"semantic_type\": \"\",\n        \"description\": \"\"\n      }\n    },\n    {\n      \"column\": \"target\",\n      \"properties\": {\n        \"dtype\": \"number\",\n        \"std\": 0,\n        \"min\": 0,\n        \"max\": 1,\n        \"num_unique_values\": 2,\n        \"samples\": [\n          1,\n          0\n        ],\n        \"semantic_type\": \"\",\n        \"description\": \"\"\n      }\n    },\n    {\n      \"column\": \"cleaned_text\",\n      \"properties\": {\n        \"dtype\": \"string\",\n        \"num_unique_values\": 5,\n        \"samples\": [\n          \"gort44excitecom mon jun 24 175421 2002 returnpath gort44excitecom deliverydate tue jun 4 053116 2002 received mandarklabsnetnoteinccom 213105180140 dogmaslashnullorg 81168116 esmtp id g544vfo20182 jmjmasonorg tue 4 jun 2002 053115 0100 received wipolipolicl 2005414934 mandarklabsnetnoteinccom 81128112 smtp id g544vc729935 tue 4 jun 2002 053113 0100 received 216776189 unverified 2185180148 wipolipolicl emwac smtprs 083 smtp id b0000918901wipolipolicl tue 04 jun 2002 001429 0400 messageid b0000918901wipolipolicl chrbadertelecomat irese gort44excitecom subject cash home equity date tue 04 jun 2002 001834 1600 mimeversion 10 contenttype textplain charsetwindows1252 xkeywords contenttransferencoding 7bit mortgage lenders brokers ready compete business whether new home loan seek refinance current home loan lower interest rate help mortgage rates havent low years take action refinance home us include pesky credit card bills use extra cash pool youve always wanted others say say yes even turned elsewhere help easy terms mortgage referral service combines highest quality loans economical rates easiest qualifications take 2 minutes complete following form obligation information kept strictly confidential must least 18 years age service available within united states service fast free free information request form please visit httpbuiltit4unowcompos since received message either responded one offers past address registered us wish optout please visit httpbuiltit4unowcompos\",\n          \"ilugadminlinuxie mon aug 19 110247 2002 returnpath ilugadminlinuxie deliveredto yyyylocalhostnetnoteinccom received localhost localhost 127001 phoboslabsnetnoteinccom postfix esmtp id cb0fc44196 jmlocalhost mon 19 aug 2002 055424 0400 edt received phobos 127001 localhost imap fetchmail590 jmlocalhost singledrop mon 19 aug 2002 105424 0100 ist received lughtuathaorg rootlughtuathaorg 19412514545 dogmaslashnullorg 81168116 esmtp id g7hl8j610834 jmilugjmasonorg sat 17 aug 2002 220845 0100 received lugh rootlocalhost 127001 lughtuathaorg 893893 esmtp id waa08700 sat 17 aug 2002 220720 0100 received hawkdcuie maildcuie 13620615 lughtuathaorg 893893 esmtp id waa08664 iluglinuxie sat 17 aug 2002 220712 0100 xauthenticationwarning lughtuathaorg host maildcuie 13620615 claimed hawkdcuie received prodigyredbrickdcuie 1362061510 hawkdcuie 60040 id 3d36bb4a000ad875 iluglinuxie sat 17 aug 2002 220712 0100 received prodigyredbrickdcuie postfix userid 1023 id 97f48da4a sat 17 aug 2002 220711 0100 ist date sat 17 aug 2002 220711 0100 philip reynolds philredbrickdcuie iluglinuxie subject ilug expanding string multiple times messageid 20020817220711h29114prodigyredbrickdcuie references 3d5d27b99080009corvilcom 20020817100644ga29167chewiecompsoccom mimeversion 10 contenttype textplain charsetusascii contentdisposition inline useragent mutt125i inreplyto 20020817100644ga29167chewiecompsoccom korcompsoccom sat aug 17 2002 110644am 0100 sender ilugadminlinuxie errorsto ilugadminlinuxie xmailmanversion 11 precedence bulk listid irish linux users group iluglinuxie xbeenthere iluglinuxie kevin riordans korcompsoccom 30 lines wisdom included pungenday 9th day bureaucracy padraig brady confessed repeat string arbitrary number times bashsed ie im missing repeat following string number3 prefixrepeat $ string $ number echo $ prefix perl string number3 prefixperl e print $ string x $ number echo $ prefix im pretty sure bsd jot utility dont hand didnt think jot installed linux systems default tone padraigs mail thats wanted however im incorrect dont linux system hand following syntax jot b string 3 phil philip reynolds rfc networks tel 01 8832063 wwwrfcnetworksie fax 01 8832041 irish linux users group iluglinuxie httpwwwlinuxiemailmanlistinfoilug unsubscription information list maintainer listmasterlinuxie\"\n        ],\n        \"semantic_type\": \"\",\n        \"description\": \"\"\n      }\n    }\n  ]\n}"
            }
          },
          "metadata": {}
        }
      ],
      "source": [
        "import re\n",
        "import nltk\n",
        "from nltk.corpus import stopwords\n",
        "from nltk.tokenize import word_tokenize\n",
        "\n",
        "# Download necessary NLTK data (only need to run once)\n",
        "try:\n",
        "    nltk.data.find('corpora/stopwords')\n",
        "except LookupError:\n",
        "    nltk.download('stopwords')\n",
        "\n",
        "try:\n",
        "    nltk.data.find('tokenizers/punkt')\n",
        "except LookupError:\n",
        "    nltk.download('punkt')\n",
        "\n",
        "try:\n",
        "    nltk.data.find('tokenizers/punkt_tab')\n",
        "except LookupError:\n",
        "    nltk.download('punkt_tab')\n",
        "\n",
        "\n",
        "def preprocess_text(text):\n",
        "    # Remove special characters and numbers, KEEPING currency symbols like $\n",
        "    text = re.sub(r'[^a-zA-Z0-9\\s$€£¥]', '', text) # Added 0-9 for numbers and common currency symbols\n",
        "    # Convert to lowercase\n",
        "    text = text.lower()\n",
        "    # Tokenization\n",
        "    tokens = word_tokenize(text)\n",
        "    # Remove stopwords\n",
        "    stop_words = set(stopwords.words('english'))\n",
        "    filtered_tokens = [word for word in tokens if word not in stop_words]\n",
        "    # Join tokens back into a string\n",
        "    return ' '.join(filtered_tokens)\n",
        "\n",
        "# Apply the preprocessing function to the 'text' column\n",
        "dataset['cleaned_text'] = dataset['text'].apply(preprocess_text)\n",
        "\n",
        "# Display the first few rows with the new 'cleaned_text' column\n",
        "print(\"Dataset after text pre-processing:\")\n",
        "display(dataset.head())"
      ]
    },
    {
      "cell_type": "markdown",
      "metadata": {
        "id": "083ea8d1"
      },
      "source": [
        "### Ekstraksi Fitur (TF-IDF)"
      ]
    },
    {
      "cell_type": "code",
      "execution_count": 20,
      "metadata": {
        "colab": {
          "base_uri": "https://localhost:8080/"
        },
        "id": "66292d16",
        "outputId": "6317e52e-4df0-43e4-d337-a32500862a0d"
      },
      "outputs": [
        {
          "output_type": "stream",
          "name": "stdout",
          "text": [
            "Dimensi matriks TF-IDF: (5329, 5000)\n"
          ]
        }
      ],
      "source": [
        "# Inisialisasi TfidfVectorizer\n",
        "# Anda bisa mengatur parameter seperti max_features, min_df, max_df jika perlu\n",
        "tfidf_vectorizer = TfidfVectorizer(max_features=5000) # Contoh: ambil 5000 fitur teratas\n",
        "\n",
        "# Fitur diekstraksi dari kolom 'cleaned_text'\n",
        "tfidf_matrix = tfidf_vectorizer.fit_transform(dataset['cleaned_text'])\n",
        "\n",
        "# tfidf_matrix adalah sparse matrix, bisa diubah ke array dense jika diperlukan\n",
        "# tfidf_array = tfidf_matrix.toarray()\n",
        "\n",
        "print(\"Dimensi matriks TF-IDF:\", tfidf_matrix.shape)\n",
        "# Anda bisa menampilkan beberapa fitur teratas atau contoh matriks TF-IDF jika mau\n",
        "# print(\"\\nContoh nama fitur (kata-kata):\")\n",
        "# print(tfidf_vectorizer.get_feature_names_out()[:100])"
      ]
    },
    {
      "cell_type": "markdown",
      "metadata": {
        "id": "8fdfb7fc"
      },
      "source": [
        "### Analisis Ciri-ciri Spam"
      ]
    },
    {
      "cell_type": "code",
      "execution_count": 21,
      "metadata": {
        "colab": {
          "base_uri": "https://localhost:8080/"
        },
        "id": "bdd2fa03",
        "outputId": "288fbf13-6f60-4cf0-8ad2-a19c62965ccd"
      },
      "outputs": [
        {
          "output_type": "stream",
          "name": "stdout",
          "text": [
            "Top 20 Kata (tanpa nama hari/bulan) dengan Bobot TF-IDF Tertinggi di Email Spam:\n",
            "td                          0.081399\n",
            "tr                          0.071118\n",
            "received                    0.056723\n",
            "br                          0.044213\n",
            "font                        0.043785\n",
            "id                          0.041475\n",
            "table                       0.039393\n",
            "email                       0.029969\n",
            "esmtp                       0.028154\n",
            "free                        0.027551\n",
            "helvetica                   0.027445\n",
            "mandarklabsnetnoteinccom    0.026137\n",
            "html                        0.024812\n",
            "localhost                   0.024361\n",
            "smtp                        0.022194\n",
            "facearial                   0.021972\n",
            "body                        0.021481\n",
            "div                         0.020544\n",
            "please                      0.019869\n",
            "sansserif                   0.019715\n",
            "dtype: float64\n",
            "\n",
            "Top 5 Angka dengan Bobot TF-IDF Tertinggi di Email Spam:\n",
            "2002    0.081462\n",
            "0100    0.029972\n",
            "24      0.023603\n",
            "0500    0.020007\n",
            "2001    0.018571\n",
            "dtype: float64\n",
            "\n",
            "Top 5 Simbol Mata Uang dengan Bobot TF-IDF Tertinggi di Email Spam:\n",
            "Series([], dtype: float64)\n"
          ]
        }
      ],
      "source": [
        "# Dapatkan nama fitur (kata-kata)\n",
        "feature_names = tfidf_vectorizer.get_feature_names_out()\n",
        "\n",
        "# Reset indeks dataset setelah cleaning dan pre-processing\n",
        "dataset_reset_index = dataset.reset_index(drop=True)\n",
        "\n",
        "# Pisahkan matriks TF-IDF untuk email spam\n",
        "spam_indices = dataset_reset_index[dataset_reset_index['target'] == 1].index\n",
        "tfidf_matrix_spam = tfidf_matrix[spam_indices]\n",
        "\n",
        "# Hitung rata-rata bobot TF-IDF untuk setiap kata di email spam\n",
        "average_tfidf_spam = tfidf_matrix_spam.mean(axis=0).A1 # .A1 untuk mengubah sparse matrix ke 1D numpy array\n",
        "\n",
        "# Buat Series pandas untuk memudahkan sorting\n",
        "tfidf_scores_spam = pd.Series(average_tfidf_spam, index=feature_names)\n",
        "\n",
        "# Kategorikan fitur: kata, angka, dan simbol mata uang untuk SPAM\n",
        "word_pattern = re.compile(r'^[a-zA-Z]+$')\n",
        "number_pattern = re.compile(r'^\\d+$')\n",
        "currency_pattern = re.compile(r'^[$€£¥]+$')\n",
        "\n",
        "words = tfidf_scores_spam[tfidf_scores_spam.index.str.match(word_pattern)]\n",
        "numbers = tfidf_scores_spam[tfidf_scores_spam.index.str.match(number_pattern)]\n",
        "currencies = tfidf_scores_spam[tfidf_scores_spam.index.str.match(currency_pattern)]\n",
        "\n",
        "# Daftar nama hari dan bulan untuk dikecualikan\n",
        "exclude_words = set(['mon', 'tue', 'wed', 'thu', 'fri', 'sat', 'sun',\n",
        "                     'jan', 'feb', 'mar', 'apr', 'may', 'jun', 'jul', 'aug', 'sep', 'oct', 'nov', 'dec'])\n",
        "\n",
        "# Filter kata-kata untuk mengecualikan nama hari dan bulan untuk SPAM\n",
        "filtered_words = words[~words.index.isin(exclude_words)]\n",
        "\n",
        "# Ambil top N dari masing-masing kategori (20 kata, 5 angka, 5 mata uang) untuk SPAM\n",
        "top_20_words = filtered_words.sort_values(ascending=False).head(20)\n",
        "top_5_numbers = numbers.sort_values(ascending=False).head(5)\n",
        "top_5_currencies = currencies.sort_values(ascending=False).head(5)\n",
        "\n",
        "print(\"Top 20 Kata (tanpa nama hari/bulan) dengan Bobot TF-IDF Tertinggi di Email Spam:\")\n",
        "print(top_20_words)\n",
        "\n",
        "print(\"\\nTop 5 Angka dengan Bobot TF-IDF Tertinggi di Email Spam:\")\n",
        "print(top_5_numbers)\n",
        "\n",
        "print(\"\\nTop 5 Simbol Mata Uang dengan Bobot TF-IDF Tertinggi di Email Spam:\")\n",
        "print(top_5_currencies)\n",
        "\n",
        "# Gabungkan hasil untuk visualisasi (jika diperlukan untuk visualisasi gabungan)\n",
        "top_features = pd.concat([top_20_words, top_5_numbers, top_5_currencies])"
      ]
    },
    {
      "cell_type": "markdown",
      "metadata": {
        "id": "8ccfff76"
      },
      "source": [
        "### Visualisasi Ciri-ciri Spam"
      ]
    },
    {
      "cell_type": "code",
      "execution_count": 22,
      "metadata": {
        "colab": {
          "base_uri": "https://localhost:8080/",
          "height": 1000
        },
        "id": "af453962",
        "outputId": "2a19116a-aa03-4995-de24-c72c1c4a604f"
      },
      "outputs": [
        {
          "output_type": "display_data",
          "data": {
            "text/plain": [
              "<Figure size 1400x700 with 1 Axes>"
            ],
            "image/png": "[encoded data removed]"
          },
          "metadata": {}
        },
        {
          "output_type": "display_data",
          "data": {
            "text/plain": [
              "<Figure size 1000x600 with 1 Axes>"
            ],
            "image/png": "[encoded data removed]"
          },
          "metadata": {}
        },
        {
          "output_type": "stream",
          "name": "stdout",
          "text": [
            "\n",
            "Tidak ada simbol mata uang yang ditemukan dengan bobot TF-IDF tinggi di Email Spam.\n"
          ]
        }
      ],
      "source": [
        "# Gunakan hasil dari analisis sebelumnya: top_20_words, top_5_numbers, top_5_currencies,\n",
        "# top_20_words_non_spam, top_5_numbers_non_spam\n",
        "\n",
        "# Visualisasi 1: Top 20 Kata (Spam)\n",
        "plt.figure(figsize=(14, 7))\n",
        "sns.barplot(x=top_20_words.index, y=top_20_words.values, palette='viridis', hue=top_20_words.index, legend=False)\n",
        "plt.title('Top 20 Kata (tanpa nama hari/bulan) dengan Bobot TF-IDF Tertinggi di Email Spam')\n",
        "plt.xlabel('Kata')\n",
        "plt.ylabel('Bobot TF-IDF Rata-rata')\n",
        "plt.xticks(rotation=90, ha='center')\n",
        "plt.tight_layout()\n",
        "plt.show()\n",
        "\n",
        "# Visualisasi 2: Top 5 Angka (Spam)\n",
        "plt.figure(figsize=(10, 6))\n",
        "sns.barplot(x=top_5_numbers.index, y=top_5_numbers.values, palette='viridis', hue=top_5_numbers.index, legend=False)\n",
        "plt.title('Top 5 Angka dengan Bobot TF-IDF Tertinggi di Email Spam')\n",
        "plt.xlabel('Angka')\n",
        "plt.ylabel('Bobot TF-IDF Rata-rata')\n",
        "plt.xticks(rotation=45, ha='right')\n",
        "plt.tight_layout()\n",
        "plt.show()\n",
        "\n",
        "# Visualisasi 3: Top 5 Simbol Mata Uang (Spam)\n",
        "if not top_5_currencies.empty: # Hanya buat plot jika ada simbol mata uang ditemukan\n",
        "    plt.figure(figsize=(8, 5))\n",
        "    sns.barplot(x=top_5_currencies.index, y=top_5_currencies.values, palette='viridis', hue=top_5_currencies.index, legend=False)\n",
        "    plt.title('Top 5 Simbol Mata Uang dengan Bobot TF-IDF Tertinggi di Email Spam')\n",
        "    plt.xlabel('Simbol Mata Uang')\n",
        "    plt.ylabel('Bobot TF-IDF Rata-rata')\n",
        "    plt.tight_layout()\n",
        "    plt.show()\n",
        "else:\n",
        "    print(\"\\nTidak ada simbol mata uang yang ditemukan dengan bobot TF-IDF tinggi di Email Spam.\")\n"
      ]
    },
    {
      "cell_type": "markdown",
      "metadata": {
        "id": "c9G76YWUgac9"
      },
      "source": []
    },
    {
      "cell_type": "markdown",
      "metadata": {
        "id": "38ea019a"
      },
      "source": [
        "### Kesimpulan Analisis\n",
        "\n",
        "Berdasarkan analisis data dan visualisasi yang telah dilakukan:\n",
        "\n",
        "1.  **Distribusi Data**: Dataset ini memiliki **5329** email unik setelah proses pembersihan. Distribusi email non-spam (target 0) adalah sekitar **68.3%** (**3638** email), sedangkan email spam (target 1) adalah sekitar **31.7%** (**1691** email). Dataset ini memiliki ketidakseimbangan (imbalance) kelas, dengan jumlah email non-spam lebih banyak daripada email spam.\n",
        "\n",
        "2.  **Ciri-ciri Email Spam**:\n",
        "    *   **Kata Kunci**: Kata-kata dengan bobot TF-IDF rata-rata tertinggi di email spam cenderung berhubungan dengan format HTML (`td`, `tr`, `br`, `font`, `table`, `html`, `body`, `div`, `sansserif`, `facearial`), istilah teknis email (`received`, `esmtp`, `localhost`, `smtp`), serta kata-kata promosi/ajakan (`free`, `please`).\n",
        "    *   **Angka**: Angka-angka yang sering muncul dengan bobot TF-IDF tinggi di email spam sebagian besar adalah angka tahun (`2002`, `2001`) dan kode waktu/zona waktu (`0100`, `0500`, `24` - kemungkinan jam atau tanggal).\n",
        "    *   **Simbol Mata Uang**: Berdasarkan analisis, tidak ada simbol mata uang (`$`, `€`, `£`, `¥`) yang memiliki bobot TF-IDF rata-rata tinggi secara signifikan di email spam dalam dataset ini. Ini mungkin menunjukkan bahwa penggunaan simbol mata uang secara langsung tidak terlalu umum atau bervariasi dalam dataset spam ini.\n",
        "\n",
        "Analisis ini memberikan wawasan awal tentang kata-kata dan pola numerik yang sering muncul di email spam, yang dapat menjadi dasar untuk pengembangan model klasifikasi spam. Namun, perlu diingat bahwa TF-IDF hanya mempertimbangkan frekuensi kata dalam dokumen dan invers dokumen, dan ciri-ciri lain seperti struktur email, pengirim, dan konteks kalimat juga penting untuk dipertimbangkan dalam model yang lebih kompleks."
      ]
    }
  ],
  "metadata": {
    "colab": {
      "provenance": []
    },
    "kernelspec": {
      "display_name": "base",
      "language": "python",
      "name": "python3"
    },
    "language_info": {
      "codemirror_mode": {
        "name": "ipython",
        "version": 3
      },
      "file_extension": ".py",
      "mimetype": "text/x-python",
      "name": "python",
      "nbconvert_exporter": "python",
      "pygments_lexer": "ipython3",
      "version": "3.13.5"
    }
  },
  "nbformat": 4,
  "nbformat_minor": 0
}